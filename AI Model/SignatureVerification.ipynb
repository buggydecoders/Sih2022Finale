{
 "cells": [
  {
   "cell_type": "code",
   "execution_count": 33,
   "id": "9a2b2bea",
   "metadata": {},
   "outputs": [],
   "source": [
    "from skimage.metrics import structural_similarity\n",
    "from skimage.transform import resize\n",
    "import cv2\n",
    "from skimage import io"
   ]
  },
  {
   "cell_type": "code",
   "execution_count": 7,
   "id": "9a60cdcd",
   "metadata": {},
   "outputs": [],
   "source": [
    "#Works well with images of different dimensions\n",
    "def orb_sim(img1, img2):\n",
    "  # SIFT is no longer available in cv2 so using ORB\n",
    "  orb = cv2.ORB_create()\n",
    "\n",
    "  # detect keypoints and descriptors\n",
    "  kp_a, desc_a = orb.detectAndCompute(img1, None)\n",
    "  kp_b, desc_b = orb.detectAndCompute(img2, None)\n",
    "\n",
    "  # define the bruteforce matcher object\n",
    "  bf = cv2.BFMatcher(cv2.NORM_HAMMING, crossCheck=True)\n",
    "    \n",
    "  #perform matches. \n",
    "  matches = bf.match(desc_a, desc_b)\n",
    "  #Look for similar regions with distance < 50. Goes from 0 to 100 so pick a number between.\n",
    "  similar_regions = [i for i in matches if i.distance < 50]  \n",
    "  if len(matches) == 0:\n",
    "    return 0\n",
    "  return len(similar_regions) / len(matches)"
   ]
  },
  {
   "cell_type": "code",
   "execution_count": 8,
   "id": "11847558",
   "metadata": {},
   "outputs": [],
   "source": [
    "#Needs images to be same dimensions\n",
    "def structural_sim(img1, img2):\n",
    "  sim, diff = structural_similarity(img1, img2, full=True)\n",
    "  return sim\n"
   ]
  },
  {
   "cell_type": "code",
   "execution_count": 34,
   "id": "b43ee42f",
   "metadata": {},
   "outputs": [],
   "source": [
    "img1 = io.imread('https://res.cloudinary.com/unesco-admin/image/upload/v1660825789/image3_qllt5e.jpg', 0)\n",
    "img2 = cv2.imread('image2.jpeg', 0)\n",
    "img3 = cv2.imread('image3.jpeg', 0)\n",
    "img4 = cv2.imread('image4.jpeg', 0)"
   ]
  },
  {
   "cell_type": "code",
   "execution_count": 55,
   "id": "aa0ede32",
   "metadata": {},
   "outputs": [],
   "source": [
    "orb_similarity = orb_sim(img2, img2)  #1.0 means identical. Lower = not similar\n",
    "orb_similarity = orb_similarity *100 "
   ]
  },
  {
   "cell_type": "code",
   "execution_count": 56,
   "id": "100bb2f8",
   "metadata": {},
   "outputs": [
    {
     "name": "stdout",
     "output_type": "stream",
     "text": [
      "Similarity using ORB is:  100.0\n"
     ]
    }
   ],
   "source": [
    "print(\"Similarity using ORB is: \", orb_similarity)"
   ]
  },
  {
   "cell_type": "code",
   "execution_count": 57,
   "id": "9fbd8b7f",
   "metadata": {},
   "outputs": [],
   "source": [
    "def verifySignature(orb_similarity):\n",
    "    if orb_similarity > 75 :\n",
    "        isMatch = True\n",
    "    else:\n",
    "        isMatch = False\n",
    "    return isMatch"
   ]
  },
  {
   "cell_type": "code",
   "execution_count": 58,
   "id": "787a65b9",
   "metadata": {},
   "outputs": [
    {
     "data": {
      "text/plain": [
       "True"
      ]
     },
     "execution_count": 58,
     "metadata": {},
     "output_type": "execute_result"
    }
   ],
   "source": [
    "verifySignature(orb_similarity)"
   ]
  },
  {
   "cell_type": "code",
   "execution_count": null,
   "id": "e5310d71",
   "metadata": {},
   "outputs": [],
   "source": []
  }
 ],
 "metadata": {
  "kernelspec": {
   "display_name": "Python 3 (ipykernel)",
   "language": "python",
   "name": "python3"
  },
  "language_info": {
   "codemirror_mode": {
    "name": "ipython",
    "version": 3
   },
   "file_extension": ".py",
   "mimetype": "text/x-python",
   "name": "python",
   "nbconvert_exporter": "python",
   "pygments_lexer": "ipython3",
   "version": "3.10.6"
  }
 },
 "nbformat": 4,
 "nbformat_minor": 5
}
